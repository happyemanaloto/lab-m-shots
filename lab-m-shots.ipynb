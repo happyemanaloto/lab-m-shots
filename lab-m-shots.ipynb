{
 "cells": [
  {
   "cell_type": "markdown",
   "id": "24b19fff-8f42-4e9f-a73e-00cff106805a",
   "metadata": {},
   "source": [
    "# M-Shots Learning"
   ]
  },
  {
   "cell_type": "markdown",
   "id": "34723a72-1601-4685-a0ba-bff544425d48",
   "metadata": {
    "id": "34723a72-1601-4685-a0ba-bff544425d48"
   },
   "source": [
    "In this notebook, we'll explore small prompt engineering techniques and recommendations that will help us elicit responses from the models that are better suited to our needs."
   ]
  },
  {
   "cell_type": "code",
   "execution_count": 1,
   "id": "fba193cc-d8a0-4ad2-8177-380204426859",
   "metadata": {
    "id": "fba193cc-d8a0-4ad2-8177-380204426859"
   },
   "outputs": [],
   "source": [
    "from openai import OpenAI\n",
    "import os\n",
    "\n",
    "from dotenv import load_dotenv, find_dotenv\n",
    "_ = load_dotenv(find_dotenv()) # read local .env file\n",
    "\n",
    "OPENAI_API_KEY  = os.getenv('OPENAI_API_KEY')"
   ]
  },
  {
   "cell_type": "markdown",
   "id": "502cfc93-21e0-498f-9650-37bc6ddd514d",
   "metadata": {
    "id": "502cfc93-21e0-498f-9650-37bc6ddd514d"
   },
   "source": [
    "# Formatting the answer with Few Shot Samples.\n",
    "\n",
    "To obtain the model's response in a specific format, we have various options, but one of the most convenient is to use Few-Shot Samples. This involves presenting the model with pairs of user queries and example responses.\n",
    "\n",
    "Large models like GPT-3.5 respond well to the examples provided, adapting their response to the specified format.\n",
    "\n",
    "Depending on the number of examples given, this technique can be referred to as:\n",
    "* Zero-Shot.\n",
    "* One-Shot.\n",
    "* Few-Shots.\n",
    "\n",
    "With One Shot should be enough, and it is recommended to use a maximum of six shots. It's important to remember that this information is passed in each query and occupies space in the input prompt.\n",
    "\n"
   ]
  },
  {
   "cell_type": "code",
   "execution_count": 2,
   "id": "a8344712-06d7-4c24-83d8-f36d62926e5e",
   "metadata": {
    "id": "a8344712-06d7-4c24-83d8-f36d62926e5e"
   },
   "outputs": [],
   "source": [
    "# Function to call the model.\n",
    "def return_OAIResponse(user_message, context):\n",
    "    client = OpenAI(\n",
    "    # This is the default and can be omitted\n",
    "    api_key=OPENAI_API_KEY,\n",
    ")\n",
    "\n",
    "    newcontext = context.copy()\n",
    "    newcontext.append({'role':'user', 'content':\"question: \" + user_message})\n",
    "\n",
    "    response = client.chat.completions.create(\n",
    "            model=\"gpt-3.5-turbo\",\n",
    "            messages=newcontext,\n",
    "            temperature=1,\n",
    "        )\n",
    "\n",
    "    return (response.choices[0].message.content)"
   ]
  },
  {
   "cell_type": "markdown",
   "id": "f611d73d-9330-466d-b705-543667e1b561",
   "metadata": {
    "id": "f611d73d-9330-466d-b705-543667e1b561"
   },
   "source": [
    "In this zero-shots prompt we obtain a correct response, but without formatting, as the model incorporates the information he wants."
   ]
  },
  {
   "cell_type": "code",
   "execution_count": 3,
   "id": "647790be-fdb8-4692-a82e-7e3a0220f72a",
   "metadata": {
    "colab": {
     "base_uri": "https://localhost:8080/"
    },
    "id": "647790be-fdb8-4692-a82e-7e3a0220f72a",
    "outputId": "4c4a9f4f-67c9-4a11-837f-1a1fd6b516ff"
   },
   "outputs": [
    {
     "name": "stdout",
     "output_type": "stream",
     "text": [
      "Sebastian Vettel won the 2010 Formula 1 World Championship driving for Red Bull Racing.\n"
     ]
    }
   ],
   "source": [
    "#zero-shot\n",
    "context_user = [\n",
    "    {'role':'system', 'content':'You are an expert in F1.'}\n",
    "]\n",
    "print(return_OAIResponse(\"Who won the F1 2010?\", context_user))"
   ]
  },
  {
   "cell_type": "markdown",
   "id": "e87a9a0a-c1b9-4759-b52f-f6547d29b4c8",
   "metadata": {
    "id": "e87a9a0a-c1b9-4759-b52f-f6547d29b4c8"
   },
   "source": [
    "For a model as large and good as GPT 3.5, a single shot is enough to learn the output format we expect.\n"
   ]
  },
  {
   "cell_type": "code",
   "execution_count": 4,
   "id": "33ac7693-6cf3-44f7-b2ff-55d8a36fe775",
   "metadata": {
    "colab": {
     "base_uri": "https://localhost:8080/"
    },
    "id": "33ac7693-6cf3-44f7-b2ff-55d8a36fe775",
    "outputId": "5278df23-8797-4dc2-9340-ac29c1318a9c"
   },
   "outputs": [
    {
     "name": "stdout",
     "output_type": "stream",
     "text": [
      "Driver: Sebastian Vettel. \n",
      "Team: Red Bull Racing.\n"
     ]
    }
   ],
   "source": [
    "#one-shot\n",
    "context_user = [\n",
    "    {'role':'system', 'content':\n",
    "     \"\"\"You are an expert in F1.\n",
    "\n",
    "     Who won the 2000 f1 championship?\n",
    "     Driver: Michael Schumacher.\n",
    "     Team: Ferrari.\"\"\"}\n",
    "]\n",
    "print(return_OAIResponse(\"Who won the F1 2011?\", context_user))"
   ]
  },
  {
   "cell_type": "markdown",
   "id": "32c454a8-181b-482b-873a-81d6ffde4674",
   "metadata": {
    "id": "32c454a8-181b-482b-873a-81d6ffde4674"
   },
   "source": [
    "Smaller models, or more complicated formats, may require more than one shot. Here a sample with two shots."
   ]
  },
  {
   "cell_type": "code",
   "execution_count": 5,
   "id": "8ce600f7-f92e-4cf7-be4a-408f12eb39d6",
   "metadata": {
    "colab": {
     "base_uri": "https://localhost:8080/"
    },
    "id": "8ce600f7-f92e-4cf7-be4a-408f12eb39d6",
    "outputId": "a6f90f5d-6d68-4b3d-ccb5-5848ae4e3e62"
   },
   "outputs": [
    {
     "name": "stdout",
     "output_type": "stream",
     "text": [
      "The 2006 F1 championship was won by Fernando Alonso, driving for the Renault F1 Team.\n"
     ]
    }
   ],
   "source": [
    "#Few shots\n",
    "context_user = [\n",
    "    {'role':'system', 'content':\n",
    "     \"\"\"You are an expert in F1.\n",
    "\n",
    "     Who won the 2010 f1 championship?\n",
    "     Driver: Sebastian Vettel.\n",
    "     Team: Red Bull Renault.\n",
    "\n",
    "     Who won the 2009 f1 championship?\n",
    "     Driver: Jenson Button.\n",
    "     Team: BrawnGP.\"\"\"}\n",
    "]\n",
    "print(return_OAIResponse(\"Who won the F1 2006?\", context_user))"
   ]
  },
  {
   "cell_type": "code",
   "execution_count": 6,
   "id": "4b29898a-f715-46d4-b74b-9f95d3112d38",
   "metadata": {
    "colab": {
     "base_uri": "https://localhost:8080/"
    },
    "id": "4b29898a-f715-46d4-b74b-9f95d3112d38",
    "outputId": "75f63fe3-0efc-45ed-dd45-71dbbb08d7a6"
   },
   "outputs": [
    {
     "name": "stdout",
     "output_type": "stream",
     "text": [
      "Driver: Lewis Hamilton.\n",
      "Team: Mercedes.\n"
     ]
    }
   ],
   "source": [
    "print(return_OAIResponse(\"Who won the F1 2019?\", context_user))"
   ]
  },
  {
   "cell_type": "markdown",
   "id": "5f1b71c4-6583-4dcb-b987-02abf6aa4a86",
   "metadata": {
    "id": "5f1b71c4-6583-4dcb-b987-02abf6aa4a86"
   },
   "source": [
    "We've been creating the prompt without using OpenAI's roles, and as we've seen, it worked correctly.\n",
    "\n",
    "However, the proper way to do this is by using these roles to construct the prompt, making the model's learning process even more effective.\n",
    "\n",
    "By not feeding it the entire prompt as if they were system commands, we enable the model to learn from a conversation, which is more realistic for it."
   ]
  },
  {
   "cell_type": "code",
   "execution_count": 7,
   "id": "20fa4a25-01a6-4f22-98db-ab7ccc9ba115",
   "metadata": {
    "colab": {
     "base_uri": "https://localhost:8080/"
    },
    "id": "20fa4a25-01a6-4f22-98db-ab7ccc9ba115",
    "outputId": "868d2040-ca3c-4a47-a1e8-1e08d581191d"
   },
   "outputs": [
    {
     "name": "stdout",
     "output_type": "stream",
     "text": [
      "Driver: Lewis Hamilton. \n",
      "Team: Mercedes. \n",
      "Points: 413.\n"
     ]
    }
   ],
   "source": [
    "#Recomended solution\n",
    "context_user = [\n",
    "    {'role':'system', 'content':'You are and expert in f1.\\n\\n'},\n",
    "    {'role':'user', 'content':'Who won the 2010 f1 championship?'},\n",
    "    {'role':'assistant', 'content':\"\"\"Driver: Sebastian Vettel. \\nTeam: Red Bull. \\nPoints: 256. \"\"\"},\n",
    "    {'role':'user', 'content':'Who won the 2009 f1 championship?'},\n",
    "    {'role':'assistant', 'content':\"\"\"Driver: Jenson Button. \\nTeam: BrawnGP. \\nPoints: 95. \"\"\"},\n",
    "]\n",
    "\n",
    "print(return_OAIResponse(\"Who won the F1 2019?\", context_user))"
   ]
  },
  {
   "cell_type": "markdown",
   "id": "ac6f6b42-f351-496b-a7e8-1286426457eb",
   "metadata": {
    "id": "ac6f6b42-f351-496b-a7e8-1286426457eb"
   },
   "source": [
    "We could also address it by using a more conventional prompt, describing what we want and how we want the format.\n",
    "\n",
    "However, it's essential to understand that in this case, the model is following instructions, whereas in the case of use shots, it is learning in real-time during inference."
   ]
  },
  {
   "cell_type": "code",
   "execution_count": 8,
   "id": "36c32a32-c348-45b2-85ee-ab4500438c49",
   "metadata": {
    "colab": {
     "base_uri": "https://localhost:8080/"
    },
    "id": "36c32a32-c348-45b2-85ee-ab4500438c49",
    "outputId": "4c970dde-37ff-41a9-8d4e-37bb727f47a6"
   },
   "outputs": [
    {
     "name": "stdout",
     "output_type": "stream",
     "text": [
      "Driver: Lewis Hamilton\n",
      "Team: Mercedes\n",
      "Points: 413\n"
     ]
    }
   ],
   "source": [
    "context_user = [\n",
    "    {'role':'system', 'content':\"\"\"You are and expert in f1.\n",
    "    You are going to answer the question of the user giving the name of the rider,\n",
    "    the name of the team and the points of the champion, following the format:\n",
    "    Drive:\n",
    "    Team:\n",
    "    Points: \"\"\"\n",
    "    }\n",
    "]\n",
    "\n",
    "print(return_OAIResponse(\"Who won the F1 2019?\", context_user))"
   ]
  },
  {
   "cell_type": "code",
   "execution_count": 9,
   "id": "KNDL1GzVngyL",
   "metadata": {
    "id": "KNDL1GzVngyL"
   },
   "outputs": [
    {
     "name": "stdout",
     "output_type": "stream",
     "text": [
      "Driver: Fernando Alonso.\n",
      "Team: Renault.\n"
     ]
    }
   ],
   "source": [
    "context_user = [\n",
    "    {'role':'system', 'content':\n",
    "     \"\"\"You are classifying .\n",
    "\n",
    "     Who won the 2010 f1 championship?\n",
    "     Driver: Sebastian Vettel.\n",
    "     Team: Red Bull Renault.\n",
    "\n",
    "     Who won the 2009 f1 championship?\n",
    "     Driver: Jenson Button.\n",
    "     Team: BrawnGP.\"\"\"}\n",
    "]\n",
    "print(return_OAIResponse(\"Who won the F1 2006?\", context_user))"
   ]
  },
  {
   "cell_type": "markdown",
   "id": "qZPNTLMPnkQ4",
   "metadata": {
    "id": "qZPNTLMPnkQ4"
   },
   "source": [
    "Few Shots for classification.\n"
   ]
  },
  {
   "cell_type": "code",
   "execution_count": 11,
   "id": "ejcstgTxnnX5",
   "metadata": {
    "colab": {
     "base_uri": "https://localhost:8080/"
    },
    "id": "ejcstgTxnnX5",
    "outputId": "4b91cc73-18f6-4944-a46b-806b02b7becb"
   },
   "outputs": [
    {
     "name": "stdout",
     "output_type": "stream",
     "text": [
      "Sentiment: Negative\n"
     ]
    }
   ],
   "source": [
    "context_user = [\n",
    "    {'role':'system', 'content':\n",
    "     \"\"\"You are an expert in reviewing product opinions and classifying them as positive or negative.\n",
    "\n",
    "     It fulfilled its function perfectly, I think the price is fair, I would buy it again.\n",
    "     Sentiment: Positive\n",
    "\n",
    "     It didn't work bad, but I wouldn't buy it again, maybe it's a bit expensive for what it does.\n",
    "     Sentiment: Negative.\n",
    "\n",
    "     I wouldn't know what to say, my son uses it, but he doesn't love it.\n",
    "     Sentiment: Neutral\n",
    "     \"\"\"}\n",
    "]\n",
    "print(return_OAIResponse(\"I'm not going to return it, but I don't plan to buy it again.\", context_user))"
   ]
  },
  {
   "cell_type": "code",
   "execution_count": 14,
   "id": "fa4c7295",
   "metadata": {},
   "outputs": [
    {
     "name": "stdout",
     "output_type": "stream",
     "text": [
      "That's great! Peru is a beautiful country with a rich history and diverse landscapes. Are there any specific places in Peru that you are interested in visiting, or any activities you are looking forward to doing there?\n"
     ]
    }
   ],
   "source": [
    "#zero-shot\n",
    "context_user = [\n",
    "    {'role':'system', 'content':'You are a tour guide.'}\n",
    "]\n",
    "print(return_OAIResponse(\"I want to visit Peru.\", context_user))"
   ]
  },
  {
   "cell_type": "code",
   "execution_count": 19,
   "id": "d69e3b04",
   "metadata": {},
   "outputs": [
    {
     "name": "stdout",
     "output_type": "stream",
     "text": [
      "Great choice! Peru is a beautiful country with a rich history and diverse culture. Depending on your interests, there are different cities you can visit for a unique experience. Here are some suggestions based on the city you choose as your starting point:\n",
      "\n",
      "1. If you start from Lima:\n",
      "   - Visit Plaza Mayor for its historical significance and beautiful architecture.\n",
      "   - Explore the Larco Museum to learn about Peru's pre-Columbian history.\n",
      "   - Take a walk along the Miraflores Boardwalk for stunning views of the Pacific Ocean.\n",
      "\n",
      "2. If you start from Cusco:\n",
      "   - Don't miss a visit to the iconic Machu Picchu, a UNESCO World Heritage site.\n",
      "   - Explore the Sacred Valley to see Inca ruins and traditional villages.\n",
      "   - Visit the impressive archaeological site of Sacsayhuamán for its massive stone structures.\n",
      "\n",
      "3. If you start from Arequipa:\n",
      "   - Explore the breathtaking Colca Canyon, known for its beautiful landscapes and Andean condors.\n",
      "   - Visit the Santa Catalina Monastery to learn about the history and architecture of Arequipa.\n",
      "   - Explore the Arequipa Cathedral, a UNESCO World Heritage site with stunning colonial architecture.\n",
      "\n",
      "4. If you start from Iquitos:\n",
      "   - Immerse yourself in the Amazon rainforest with a guided tour to observe wildlife and plant species.\n",
      "   - Visit Belen Market to experience the vibrant local culture and try some traditional Amazonian food.\n",
      "   - Explore the Pilpintuwasi Butterfly Farm to learn about the diverse butterfly species in the region.\n",
      "\n",
      "Each city offers a unique experience and is best suited for different interests such as culture, history, nature, adventure, and wildlife. Let me know if you need more information or specific recommendations!\n"
     ]
    }
   ],
   "source": [
    "#Few shots\n",
    "context_user = [\n",
    "    {'role':'system', 'content':\n",
    "     \"\"\"You are a tour guide.\n",
    "\n",
    "     From: Lima.\n",
    "     Activities: Visit Plaza Mayor, Larco Museum, Miraflores Boardwalk.\n",
    "     Best for: Culture, History, Gastronomy.\n",
    "\n",
    "     From: Cusco.\n",
    "     Activities: Visit Machu Picchu, Sacred Valley, Sacsayhuamán.\n",
    "     Best for: History, Nature, Adventure.\n",
    "     \n",
    "     From: Arequipa.\n",
    "     Activities: Visit Colca Canyon, Santa Catalina Monastery, Arequipa Cathedral.\n",
    "     Best for: Nature, Culture, History.\n",
    "     \n",
    "     From: Iquitos.\n",
    "     Activities: Visit the Amazon rainforest, Belen Market, Pilpintuwasi Butterfly Farm.\n",
    "     Best for: Nature, Adventure, Wildlife.\n",
    "     \"\"\"}\n",
    "\n",
    "]\n",
    "print(return_OAIResponse(\"I want to visit Peru.\", context_user))"
   ]
  },
  {
   "cell_type": "code",
   "execution_count": 20,
   "id": "37ae35d5",
   "metadata": {},
   "outputs": [
    {
     "name": "stdout",
     "output_type": "stream",
     "text": [
      "Peru is a country rich in culture, history, and natural beauty. Depending on your interests, there are several regions you can visit that offer unique experiences. Here are some options based on where you might want to start your journey:\n",
      "\n",
      "- If you are interested in exploring the bustling city life and historical sites, you can start your trip in Lima. Here, you can visit the Plaza Mayor, the Larco Museum, and take a leisurely stroll along the Miraflores Boardwalk to experience the gastronomy of the city.\n",
      "\n",
      "- For those who are fascinated by ancient civilizations and breathtaking landscapes, starting in Cusco might be the perfect choice. You can visit iconic sites such as Machu Picchu, the Sacred Valley, and the impressive ruins of Sacsayhuamán while immersing yourself in the history, nature, and adventure of the region.\n",
      "\n",
      "- If you prefer a blend of nature, culture, and history, beginning your journey in Arequipa could be ideal. Explore the stunning Colca Canyon, wander through the colorful streets of the Santa Catalina Monastery, and marvel at the intricate architecture of the Arequipa Cathedral.\n",
      "\n",
      "- For wildlife enthusiasts and adventure seekers, starting in Iquitos offers a chance to explore the vast Amazon rainforest, browse the unique offerings at the Belen Market, and visit the Pilpintuwasi Butterfly Farm to encounter a variety of exotic species up close.\n",
      "\n",
      "No matter where you choose to start your Peruvian adventure, you are sure to be enchanted by the diverse attractions and experiences that this beautiful country has to offer. Feel free to ask if you have any more questions or need further assistance in planning your trip!\n"
     ]
    }
   ],
   "source": [
    "#Few shots\n",
    "context_user = [\n",
    "    {'role':'system', 'content':\n",
    "     \"\"\"You are a tour guide.\n",
    "\n",
    "     From: Lima.\n",
    "     Activities: Visit Plaza Mayor, Larco Museum, Miraflores Boardwalk.\n",
    "     Best for: Culture, History, Gastronomy.\n",
    "\n",
    "     From: Cusco.\n",
    "     Activities: Visit Machu Picchu, Sacred Valley, Sacsayhuamán.\n",
    "     Best for: History, Nature, Adventure.\n",
    "     \n",
    "     From: Arequipa.\n",
    "     Activities: Visit Colca Canyon, Santa Catalina Monastery, Arequipa Cathedral.\n",
    "     Best for: Nature, Culture, History.\n",
    "     \n",
    "     From: Iquitos.\n",
    "     Activities: Visit the Amazon rainforest, Belen Market, Pilpintuwasi Butterfly Farm.\n",
    "     Best for: Nature, Adventure, Wildlife.\n",
    "     \"\"\"}\n",
    "\n",
    "]\n",
    "print(return_OAIResponse(\"I want to visit Peru.\", context_user))"
   ]
  },
  {
   "cell_type": "code",
   "execution_count": 21,
   "id": "cebaff5e",
   "metadata": {},
   "outputs": [
    {
     "name": "stdout",
     "output_type": "stream",
     "text": [
      "That's great! Peru is a wonderful destination with so much to offer. Depending on your interests, here are some recommendations for tours from different cities in Peru:\n",
      "\n",
      "- **From Lima**: If you're into culture, history, and gastronomy, you can visit Plaza Mayor, Larco Museum, and walk along the Miraflores Boardwalk. Lima is known for its delicious cuisine, so be sure to try some local dishes like ceviche and lomo saltado.\n",
      "\n",
      "- **From Cusco**: For history, nature, and adventure seekers, Cusco is the gateway to Machu Picchu, the Sacred Valley, and the impressive Sacsayhuamán ruins. Trekking to Machu Picchu is an unforgettable experience and a must-do for many travelers.\n",
      "\n",
      "- **From Arequipa**: Nature lovers will enjoy exploring Colca Canyon, visiting the Santa Catalina Monastery, and admiring the architecture of Arequipa Cathedral. The city is surrounded by stunning landscapes and has a rich colonial history.\n",
      "\n",
      "- **From Iquitos**: If you're looking for a unique nature experience, Iquitos is the starting point for exploring the Amazon rainforest. You can also visit Belen Market, a vibrant and colorful market, and the Pilpintuwasi Butterfly Farm to see exotic wildlife up close.\n",
      "\n",
      "Each of these tours offers a different perspective on Peru, so choose the one that aligns with your interests and get ready for an unforgettable adventure!\n"
     ]
    }
   ],
   "source": [
    "#Few shots\n",
    "context_user = [\n",
    "    {'role':'system', 'content':\n",
    "     \"\"\"You are a tour guide.\n",
    "\n",
    "     From: Lima.\n",
    "     Activities: Visit Plaza Mayor, Larco Museum, Miraflores Boardwalk.\n",
    "     Best for: Culture, History, Gastronomy.\n",
    "\n",
    "     From: Cusco.\n",
    "     Activities: Visit Machu Picchu, Sacred Valley, Sacsayhuamán.\n",
    "     Best for: History, Nature, Adventure.\n",
    "     \n",
    "     From: Arequipa.\n",
    "     Activities: Visit Colca Canyon, Santa Catalina Monastery, Arequipa Cathedral.\n",
    "     Best for: Nature, Culture, History.\n",
    "     \n",
    "     From: Iquitos.\n",
    "     Activities: Visit the Amazon rainforest, Belen Market, Pilpintuwasi Butterfly Farm.\n",
    "     Best for: Nature, Adventure, Wildlife.\n",
    "     \"\"\"}\n",
    "\n",
    "]\n",
    "print(return_OAIResponse(\"I want to visit Peru.\", context_user))"
   ]
  },
  {
   "cell_type": "code",
   "execution_count": null,
   "id": "7cb69c16",
   "metadata": {},
   "outputs": [
    {
     "name": "stdout",
     "output_type": "stream",
     "text": [
      "From: Lima.\n",
      "Activities: Visit Machu Picchu, Sacred Valley, Lake Titicaca.\n",
      "Best for: History, Nature, Adventure.\n",
      "Time: 7-10 days.\n",
      "Airport: Jorge Chavez International Airport (LIM).\n"
     ]
    }
   ],
   "source": [
    "context_user = [\n",
    "    {'role':'system', 'content':'You are a tour guide.\\n\\n'},\n",
    "    {'role':'user', 'content':'I want to visit Peru.'},\n",
    "    {'role':'assistant', 'content':'From: Lima.\\nActivities: Visit Plaza Mayor, Larco Museum, Miraflores Boardwalk.\\nBest for: Culture, History, Gastronomy. \\nTime: 3 days.\\nAirport: Jorge Chavez International Airport (LIM).'},\n",
    "    {'role':'user', 'content':'I want to visit Philippines.'},\n",
    "    {'role':'assistant', 'content':'From: Manila.\\nActivities: Visit Intramuros, Rizal Park, Manila Ocean Park.\\nBest for: Culture, History, Nature. \\nTime: 5 days.\\nAirport: Ninoy Aquino International Airport (MNL).'},\n",
    "    {'role':'user', 'content':'I want to visit Denmark.'},\n",
    "    {'role':'assistant', 'content':'From: Copenhagen.\\nActivities: Visit Tivoli Gardens, Nyhavn, The Little Mermaid.\\nBest for: Culture, History, Architecture. \\nTime: 4 days.\\nAirport: Copenhagen Airport (CPH).'},\n",
    "]\n",
    "\n",
    "print(return_OAIResponse(\"I want to visit Peru.\", context_user))"
   ]
  },
  {
   "cell_type": "code",
   "execution_count": 28,
   "id": "5f752e9f",
   "metadata": {},
   "outputs": [
    {
     "name": "stdout",
     "output_type": "stream",
     "text": [
      "From: Lima.\n",
      "Activities: Visit Plaza Mayor, Larco Museum, Miraflores Boardwalk.\n",
      "Best for: Culture, History, Gastronomy. \n",
      "Time: 3 days.\n",
      "Airport: Jorge Chavez International Airport (LIM).\n"
     ]
    }
   ],
   "source": [
    "context_user = [\n",
    "    {'role':'system', 'content':\"\"\"You are a tour guide.\\n\\n'Reply with information like in this example'From: Lima.\\nActivities: Visit Plaza Mayor, Larco Museum, Miraflores Boardwalk.\\nBest for: Culture, History, Gastronomy. \\nTime: 3 days.\\nAirport: Jorge Chavez International Airport (LIM).'\n",
    "     \"\"\"}\n",
    "]\n",
    "\n",
    "print(return_OAIResponse(\"I want to visit Peru.\", context_user))"
   ]
  },
  {
   "cell_type": "code",
   "execution_count": 29,
   "id": "80538150",
   "metadata": {},
   "outputs": [
    {
     "name": "stdout",
     "output_type": "stream",
     "text": [
      "Peru is a fantastic destination that offers a rich blend of history, culture, and natural beauty. From the majestic ruins of Machu Picchu to the vibrant streets of Lima and the mystical Nazca Lines, there is something for every traveler to experience and enjoy in Peru. Let me know if you need any assistance in planning your trip!\n"
     ]
    }
   ],
   "source": [
    "context_user = [\n",
    "    {'role':'system', 'content':'You are a tour guide.\\n\\n'},\n",
    "    {'role':'user', 'content':'I want to visit Peru.'},\n",
    "    {'role':'assistant', 'content':'From: Lima.\\nActivities: Visit Plaza Mayor, Larco Museum, Miraflores Boardwalk.\\nBest for: Culture, History, Gastronomy. \\nTime: 3 days.\\nAirport: Jorge Chavez International Airport (LIM).'}\n",
    "]\n",
    "\n",
    "print(return_OAIResponse(\"I want to visit Peru.\", context_user))"
   ]
  },
  {
   "cell_type": "code",
   "execution_count": 25,
   "id": "fb67bf6d",
   "metadata": {},
   "outputs": [
    {
     "name": "stdout",
     "output_type": "stream",
     "text": [
      "**Destination: Peru**\n",
      "\n",
      "**Main attractions:**\n",
      "1) Machu Picchu\n",
      "2) Sacred Valley\n",
      "3) Amazon Rainforest\n",
      "4) Lake Titicaca\n",
      "5) Colca Canyon\n",
      "6) Nazca Lines\n",
      "7) Plaza de Armas in Cusco\n",
      "8) Sacsayhuamán\n",
      "9) Lima's Historic Center\n",
      "\n",
      "**Best time to visit:**\n",
      "The best time to visit Peru is during the dry season which runs from May to September. This is the peak tourist season with clear skies and comfortable temperatures. However, visiting during the shoulder seasons of April and October can also be a good option to avoid large crowds.\n",
      "\n",
      "**Best way to get there:**\n",
      "The main international airport in Peru is Jorge Chávez International Airport in Lima. Many major airlines have flights to Lima from various international destinations.\n",
      "\n",
      "**Best way to get around:**\n",
      "Within Peru, domestic flights are a quick way to cover long distances. Buses are also a popular and affordable option, especially for shorter distances. In cities like Lima and Cusco, taxis and ridesharing services are readily available.\n",
      "\n",
      "**Best places to eat:**\n",
      "1) Central in Lima\n",
      "2) Maido in Lima\n",
      "3) La Lucha Sanguchería Criolla in Lima\n",
      "4) El Mercado in Cusco\n",
      "5) Pachapapa in Cusco\n",
      "\n",
      "**Best places to stay:**\n",
      "1) Belmond Sanctuary Lodge in Machu Picchu\n",
      "2) Inkaterra Reserva Amazonica in the Amazon Rainforest\n",
      "3) JW Marriott El Convento Cusco in Cusco\n",
      "4) Libertador Lake Titicaca in Puno\n",
      "5) Tambo del Inka Resort in Urubamba\n",
      "\n",
      "**What to be aware of and bring:**\n",
      "1) Altitude sickness medication and proper acclimatization in high-altitude areas like Cusco.\n",
      "2) Sunscreen and insect repellent for outdoor activities.\n",
      "3) Comfortable walking shoes for exploring archaeological sites.\n",
      "4) Respect the local culture and customs, especially when visiting sacred sites.\n",
      "5) Always carry a copy of your passport and important documents.\n",
      "6) Be cautious of pickpockets, especially in crowded areas.\n",
      "7) Dress in layers as temperatures can vary throughout the day.\n"
     ]
    }
   ],
   "source": [
    "#CoT\n",
    "context_user = [\n",
    "    {'role':'system', 'content':\"\"\" You are a tour guide.'\n",
    "    1) Know the main attractions of the place.\n",
    "    2) Know the best time to visit.\n",
    "    3) Know the best way to get there.\n",
    "    4) Know the best way to get around.\n",
    "    5) Know the best places to eat.\n",
    "    6) Know the best places to stay.\n",
    "    7) Provide a list of what to be aware of and bring when visiting the place.\n",
    "    \"\"\"\n",
    "    }\n",
    "]\n",
    "print(return_OAIResponse(\"I want to visit Peru.\", context_user))"
   ]
  },
  {
   "cell_type": "code",
   "execution_count": 26,
   "id": "d0634562",
   "metadata": {},
   "outputs": [
    {
     "name": "stdout",
     "output_type": "stream",
     "text": [
      "Peru is an amazing destination with a rich history, diverse culture, and stunning landscapes. Here is some information to help you plan your trip to Peru:\n",
      "\n",
      "Main attractions: \n",
      "1) Machu Picchu - The ancient Incan city located in the Andes Mountains is a must-visit.\n",
      "2) The Sacred Valley - Home to impressive Incan ruins and traditional villages.\n",
      "3) Lake Titicaca - The highest navigable lake in the world with stunning scenery and local culture.\n",
      "4) Nazca Lines - Mysterious geoglyphs in the desert that can be best seen from the air.\n",
      "5) Amazon Rainforest - Explore the incredible biodiversity of the Amazon.\n",
      "\n",
      "Best time to visit:\n",
      "The best time to visit Peru is during the dry season, which runs from May to September. This period offers the most pleasant weather for exploring the various attractions in Peru.\n",
      "\n",
      "Best way to get there:\n",
      "You can fly into the main international airports in Lima and Cusco. From there, you can easily travel to other parts of the country by bus, train, or domestic flights.\n",
      "\n",
      "Best way to get around:\n",
      "In major cities, taxis and rideshare services like Uber are popular options for getting around. For longer journeys, buses and domestic flights are convenient choices.\n",
      "\n",
      "Best places to eat:\n",
      "Peru is known for its delicious cuisine, with must-try dishes like ceviche, lomo saltado, and causa. Some popular restaurants in Lima include Central, Maido, and Astrid y Gastón.\n",
      "\n",
      "Best places to stay:\n",
      "There are a variety of accommodation options in Peru, ranging from budget hostels to luxury hotels. In Cusco, you can find charming boutique hotels near the historic center. In Lima, Miraflores is a popular neighborhood for hotels with ocean views.\n",
      "\n",
      "What to be aware of and bring:\n",
      "- Altitude sickness can be a concern in higher elevation areas, so it's recommended to acclimatize slowly and stay hydrated.\n",
      "- Bring comfortable walking shoes for exploring the archaeological sites.\n",
      "- Sunscreen, sunglasses, and a hat are essential, especially at high altitudes where the sun is stronger.\n",
      "- It's a good idea to carry some cash, as not all places may accept credit cards.\n",
      "\n",
      "I hope this information helps you plan an unforgettable trip to Peru!\n"
     ]
    }
   ],
   "source": [
    "#CoT\n",
    "context_user = [\n",
    "    {'role':'system', 'content':\"\"\" You are a tour guide.'\n",
    "    1) Know the main attractions of the place.\n",
    "    2) Know the best time to visit.\n",
    "    3) Know the best way to get there.\n",
    "    4) Know the best way to get around.\n",
    "    5) Know the best places to eat.\n",
    "    6) Know the best places to stay.\n",
    "    7) Provide a list of what to be aware of and bring when visiting the place.\n",
    "    \"\"\"\n",
    "    }\n",
    "]\n",
    "print(return_OAIResponse(\"I want to visit Peru.\", context_user))"
   ]
  },
  {
   "cell_type": "code",
   "execution_count": 27,
   "id": "27e9bfbe",
   "metadata": {},
   "outputs": [
    {
     "name": "stdout",
     "output_type": "stream",
     "text": [
      "Peru is an amazing country with diverse landscapes, rich history, and vibrant culture. Here's a guide to help you make the most of your trip to Peru:\n",
      "\n",
      "Main Attractions:\n",
      "1) Machu Picchu - An ancient Inca citadel located in the Andes Mountains, it is one of the most famous archaeological sites in the world.\n",
      "2) The Sacred Valley - A beautiful region in the Andes known for its stunning landscapes, Inca ruins, and traditional indigenous communities.\n",
      "3) The Amazon Rainforest - Experience the incredible biodiversity of the Amazon with activities like wildlife spotting, jungle hikes, and river cruises.\n",
      "4) Lake Titicaca - The highest navigable lake in the world, with unique floating islands and indigenous communities.\n",
      "5) Cusco - The former capital of the Inca Empire, Cusco is a UNESCO World Heritage Site with colonial architecture and Inca ruins.\n",
      "\n",
      "Best Time to Visit:\n",
      "The best time to visit Peru is during the dry season, which runs from May to September. This is also the peak tourist season, so expect larger crowds and higher prices. If you want to avoid the crowds, consider visiting during the shoulder seasons of April or October.\n",
      "\n",
      "Best Way to Get There:\n",
      "Most international travelers arrive in Peru through Lima's Jorge Chavez International Airport. From there, you can take domestic flights to other major cities like Cusco, Arequipa, or Iquitos. Alternatively, you can also enter Peru by land from neighboring countries.\n",
      "\n",
      "Best Way to Get Around:\n",
      "In Peru, domestic flights are the quickest way to get between major cities. For shorter distances, you can take buses, which range from budget to luxury options. In cities like Lima and Cusco, taxis and ride-sharing apps are convenient ways to get around.\n",
      "\n",
      "Best Places to Eat:\n",
      "Peru is known for its delicious and diverse cuisine. Don't miss trying local specialties like ceviche (marinated raw fish), lomo saltado (stir-fried beef), and rocoto relleno (stuffed spicy pepper). Some of the best places to eat are in Lima, where you can find a range of restaurants from street food stalls to upscale dining establishments.\n",
      "\n",
      "Best Places to Stay:\n",
      "Peru offers accommodation options to suit every budget, from hostels and guesthouses to luxury hotels and eco-lodges. In Cusco, consider staying in a charming boutique hotel near the main square. In the Sacred Valley, look for a hotel with stunning mountain views.\n",
      "\n",
      "What to be Aware of and Bring:\n",
      "- Altitude sickness: Some regions in Peru are located at high altitudes, so acclimatize slowly and stay hydrated.\n",
      "- Sun protection: The sun in Peru can be strong, so pack sunscreen, sunglasses, and a hat.\n",
      "- Travel insurance: It's recommended to have travel insurance that covers medical expenses and emergency evacuation.\n",
      "- Local currency: The currency in Peru is the Peruvian Sol, so make sure to have some cash on hand for small purchases.\n",
      "- Respect local customs: Learn a few basic Spanish phrases and respect local customs and traditions during your visit.\n"
     ]
    }
   ],
   "source": [
    "#CoT\n",
    "context_user = [\n",
    "    {'role':'system', 'content':\"\"\" You are a tour guide.'\n",
    "    1) Know the main attractions of the place.\n",
    "    2) Know the best time to visit.\n",
    "    3) Know the best way to get there.\n",
    "    4) Know the best way to get around.\n",
    "    5) Know the best places to eat.\n",
    "    6) Know the best places to stay.\n",
    "    7) Provide a list of what to be aware of and bring when visiting the place.\n",
    "    \"\"\"\n",
    "    }\n",
    "]\n",
    "print(return_OAIResponse(\"I want to visit Peru.\", context_user))"
   ]
  },
  {
   "cell_type": "markdown",
   "id": "ffe1d50b-d262-4e74-8f2d-3559f3fcfb15",
   "metadata": {
    "id": "ZHr_75sDqDJp"
   },
   "source": [
    "# Exercise\n",
    " - Complete the prompts similar to what we did in class. \n",
    "     - Try at least 3 versions\n",
    "     - Be creative\n",
    " - Write a one page report summarizing your findings.\n",
    "     - Were there variations that didn't work well? i.e., where GPT either hallucinated or wrong\n",
    " - What did you learn?"
   ]
  },
  {
   "cell_type": "code",
   "execution_count": null,
   "id": "9adda59c-ad09-4e9d-88cd-54f42384a5f3",
   "metadata": {},
   "outputs": [],
   "source": [
    "Know what you information and format that you do not want to miss and be explicit about it in the prompt."
   ]
  }
 ],
 "metadata": {
  "colab": {
   "include_colab_link": true,
   "provenance": []
  },
  "kernelspec": {
   "display_name": "base",
   "language": "python",
   "name": "python3"
  },
  "language_info": {
   "codemirror_mode": {
    "name": "ipython",
    "version": 3
   },
   "file_extension": ".py",
   "mimetype": "text/x-python",
   "name": "python",
   "nbconvert_exporter": "python",
   "pygments_lexer": "ipython3",
   "version": "3.12.7"
  }
 },
 "nbformat": 4,
 "nbformat_minor": 5
}
